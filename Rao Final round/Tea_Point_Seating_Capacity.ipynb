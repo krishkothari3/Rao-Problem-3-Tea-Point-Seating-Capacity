{
 "cells": [
  {
   "cell_type": "code",
   "execution_count": 2,
   "id": "7b45a5c3",
   "metadata": {},
   "outputs": [],
   "source": [
    "f = open(\"small_input.txt\",\"r\").readlines()\n",
    "f = [i.rstrip(\"\\n\") for i in f]\n",
    "f.pop(0)\n",
    "temp1 = []\n",
    "temp2 = []\n",
    "main = {}\n",
    "for i in range(0,len(f)):\n",
    "    if(i%2 == 0):\n",
    "        temp1.append(f[i])\n",
    "    else:\n",
    "        temp2.append(f[i])\n",
    "for i in temp1:\n",
    "    for j in temp2:\n",
    "        main[i] = j\n",
    "def mainFunction(n,m):\n",
    "    benches = 0\n",
    "    sum = 0\n",
    "    l2 = m.split()\n",
    "    l2 = [int(i) for i in l2]\n",
    "    l2[1] = (l2[1]/l2[0]) * 2\n",
    "    l2[2] = (l2[2]/l2[0]) * 2\n",
    "    l = n.split()\n",
    "    l = [int(i) for i in l]\n",
    "    l.sort()\n",
    "    max = l[4]\n",
    "    for i in range(5,9):\n",
    "        temp3 = l[i] - l[4] - (benches*2)\n",
    "        sum += (benches*2) * l2[1]\n",
    "        benches = 0\n",
    "        if (temp3 % 3 == 0):\n",
    "            sum += (temp3/3)*l2[2]\n",
    "            benches = temp3/3\n",
    "        else:\n",
    "            temp4 = temp3 % 3\n",
    "            if (temp3//3*l2[2]+temp4*l2[1] >= (temp3//3+1)*l2[2]):\n",
    "                benches = temp3//3+1\n",
    "                sum += (temp3//3+1)*l2[2]\n",
    "            else:\n",
    "                benches = temp3//3\n",
    "                sum += temp3//3*l2[2]+temp4*l2[1]\n",
    "    return sum\n",
    "f2 = open(\"Small_Output.txt\",\"a\")\n",
    "for i in main:\n",
    "    f2.write(str(mainFunction((main[i]),i))+\"\\n\")\n",
    "f2.close()"
   ]
  },
  {
   "cell_type": "code",
   "execution_count": 102,
   "id": "ed1d94d1",
   "metadata": {},
   "outputs": [],
   "source": [
    "f3 = open(\"large_input.txt\",\"r\").readlines()\n",
    "f3 = [i.rstrip(\"\\n\") for i in f3]\n",
    "# print(f3)\n",
    "f3.pop(0)\n",
    "temp1 = []\n",
    "temp2 = []\n",
    "main = {}\n",
    "for i in range(0,len(f3)):\n",
    "    if(i%2 == 0):\n",
    "        temp1.append(f3[i])\n",
    "    else:\n",
    "        temp2.append(f3[i])\n",
    "for i in temp1:\n",
    "    for j in temp2:\n",
    "        main[i] = j\n",
    "f4 = open(\"Large_output.txt\",\"a\")\n",
    "for i in main:\n",
    "    f4.write(str(mainFunction((main[i]),i))+\"\\n\")\n",
    "f4.close()"
   ]
  },
  {
   "cell_type": "code",
   "execution_count": null,
   "id": "e533ee7f",
   "metadata": {},
   "outputs": [],
   "source": []
  }
 ],
 "metadata": {
  "kernelspec": {
   "display_name": "Python 3 (ipykernel)",
   "language": "python",
   "name": "python3"
  },
  "language_info": {
   "codemirror_mode": {
    "name": "ipython",
    "version": 3
   },
   "file_extension": ".py",
   "mimetype": "text/x-python",
   "name": "python",
   "nbconvert_exporter": "python",
   "pygments_lexer": "ipython3",
   "version": "3.9.13"
  }
 },
 "nbformat": 4,
 "nbformat_minor": 5
}
